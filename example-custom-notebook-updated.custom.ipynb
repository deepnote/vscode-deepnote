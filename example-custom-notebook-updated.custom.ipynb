{
  "nbformat": 4,
  "nbformat_minor": 4,
  "metadata": {},
  "cells": [
    {
      "cell_type": "markdown",
      "metadata": {
        "cell_id": "cell-0"
      },
      "source": [
        "# Custom Cell Types Demo\n\nThis notebook demonstrates custom cell types beyond the standard code and markdown cells.\nButton cells now render as input replacements instead of outputs!"
      ]
    },
    {
      "cell_type": "button",
      "metadata": {
        "cell_id": "cell-1",
        "text": "Click me!",
        "colorScheme": "primary"
      },
      "source": [
        "button1_clicked = True"
      ]
    },
    {
      "cell_type": "button", 
      "metadata": {
        "cell_id": "cell-2",
        "text": "Another Button",
        "colorScheme": "secondary"
      },
      "source": [
        "button2_clicked = True"
      ]
    },
    {
      "cell_type": "code",
      "metadata": {
        "cell_id": "cell-3"
      },
      "source": [
        "# This is a regular Python code cell\nprint('Hello from a standard code cell!')\n\n# Check if button variables were set\ntry:\n    print(f'button1_clicked: {button1_clicked}')\nexcept NameError:\n    print('button1_clicked: not set')\n    \ntry:\n    print(f'button2_clicked: {button2_clicked}')\nexcept NameError:\n    print('button2_clicked: not set')"
      ]
    },
    {
      "cell_type": "button",
      "metadata": {
        "cell_id": "cell-4", 
        "text": "Success Button",
        "colorScheme": "success"
      },
      "source": [
        "success_clicked = True"
      ]
    },
    {
      "cell_type": "markdown",
      "metadata": {
        "cell_id": "cell-5"
      },
      "source": [
        "## More Examples\n\nYou can add more custom cell types by:\n1. Extending the serializer to handle new cell types\n2. Creating new renderers for each type  \n3. Registering them in the renderer registry\n\n### Deepnote-Style Button\nBelow is a Deepnote-compatible button that sets a variable when clicked:"
      ]
    },
    {
      "cell_type": "markdown",
      "metadata": {
        "cell_id": "cell-6",
        "deepnote_cell_type": "button",
        "deepnote_button_title": "Set Flag"
      },
      "source": [
        "deepnote_flag = True"
      ]
    },
    {
      "cell_type": "markdown",
      "metadata": {
        "cell_id": "cell-7",
        "deepnote_cell_type": "button", 
        "deepnote_button_title": "Danger Mode",
        "colorScheme": "danger"
      },
      "source": [
        "danger_mode = True"
      ]
    },
    {
      "cell_type": "code",
      "metadata": {
        "cell_id": "cell-8"
      },
      "source": [
        "# Check Deepnote button variables\ntry:\n    print(f'deepnote_flag: {deepnote_flag}')\nexcept NameError:\n    print('deepnote_flag: not set')\n    \ntry:\n    print(f'danger_mode: {danger_mode}')\nexcept NameError:\n    print('danger_mode: not set')"
      ]
    }
  ]
}
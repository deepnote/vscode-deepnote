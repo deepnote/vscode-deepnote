{
  "cells": [
    {
      "cell_type": "markdown",
      "metadata": {},
      "source": [
        "# Custom Cell Types Demo\n",
        "\n",
        "This notebook demonstrates custom cell types beyond the standard code and markdown cells."
      ]
    },
    {
      "cell_type": "button",
      "source": [],
      "metadata": {
        "cell_id": "button1",
        "text": "Click me!",
        "variant": "primary",
        "size": "medium"
      }
    },
    {
      "cell_type": "button",
      "source": [],
      "metadata": {
        "cell_id": "button2",
        "text": "Execute Code",
        "variant": "success",
        "action": {
          "type": "execute",
          "value": "print('Button clicked!')"
        }
      }
    },
    {
      "cell_type": "code",
      "execution_count": null,
      "metadata": {},
      "outputs": [],
      "source": [
        "# This is a regular Python code cell\n",
        "print('Hello from a standard code cell!')"
      ]
    },
    {
      "cell_type": "button",
      "source": [],
      "metadata": {
        "cell_id": "button3",
        "text": "Danger Zone",
        "variant": "danger",
        "size": "large",
        "action": {
          "type": "message",
          "value": "danger-button-clicked"
        }
      }
    },
    {
      "cell_type": "markdown",
      "metadata": {},
      "source": [
        "## More Examples\n",
        "\n",
        "You can add more custom cell types by:\n",
        "1. Extending the serializer to handle new cell types\n",
        "2. Creating new renderers for each type\n",
        "3. Registering them in the renderer registry"
      ]
    },
    {
      "cell_type": "button",
      "source": [],
      "metadata": {
        "cell_id": "button4",
        "text": "Open Settings",
        "variant": "secondary",
        "action": {
          "type": "command",
          "value": "workbench.action.openSettings"
        }
      }
    }
  ],
  "metadata": {
    "kernelspec": {
      "display_name": "Python 3",
      "language": "python",
      "name": "python3"
    },
    "language_info": {
      "name": "python",
      "version": "3.9.0"
    }
  },
  "nbformat": 4,
  "nbformat_minor": 4
}
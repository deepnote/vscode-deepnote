{
  "cells": [
    {
      "cell_type": "markdown",
      "metadata": {},
      "source": [
        "# Test Custom Button Cells\n",
        "This is a test of custom button rendering in Jupyter notebooks."
      ]
    },
    {
      "cell_type": "code",
      "execution_count": null,
      "metadata": {},
      "outputs": [
        {
          "output_type": "display_data",
          "data": {
            "application/vnd.custom.cell": {
              "cellType": "button",
              "source": "Click Me!",
              "metadata": {
                "text": "Click Me!",
                "variant": "primary",
                "action": {
                  "type": "message",
                  "value": "Button was clicked!"
                }
              }
            }
          },
          "metadata": {}
        }
      ],
      "source": [
        "# This cell should render as a button\n",
        "# The output contains the custom MIME type that our renderer handles"
      ]
    },
    {
      "cell_type": "code",
      "execution_count": null,
      "metadata": {},
      "outputs": [
        {
          "output_type": "display_data",
          "data": {
            "application/vnd.custom.cell": {
              "cellType": "button",
              "source": "Execute Code",
              "metadata": {
                "text": "Execute Code",
                "variant": "success",
                "size": "large",
                "action": {
                  "type": "execute",
                  "value": "print('Hello from button click!')"
                }
              }
            }
          },
          "metadata": {}
        }
      ],
      "source": [
        "# Another button cell with different properties"
      ]
    }
  ],
  "metadata": {
    "kernelspec": {
      "display_name": "Python 3",
      "language": "python",
      "name": "python3"
    },
    "language_info": {
      "name": "python",
      "version": "3.8.0"
    }
  },
  "nbformat": 4,
  "nbformat_minor": 4
}